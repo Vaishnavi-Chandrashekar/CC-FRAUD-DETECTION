{
  "nbformat": 4,
  "nbformat_minor": 0,
  "metadata": {
    "colab": {
      "provenance": [],
      "authorship_tag": "ABX9TyN1DBoSEjCrx0V4PPqRxlVt",
      "include_colab_link": true
    },
    "kernelspec": {
      "name": "python3",
      "display_name": "Python 3"
    },
    "language_info": {
      "name": "python"
    }
  },
  "cells": [
    {
      "cell_type": "markdown",
      "metadata": {
        "id": "view-in-github",
        "colab_type": "text"
      },
      "source": [
        "<a href=\"https://colab.research.google.com/github/Vaishnavi-Chandrashekar/CC-FRAUD-DETECTION/blob/main/Data_Preparation.ipynb\" target=\"_parent\"><img src=\"https://colab.research.google.com/assets/colab-badge.svg\" alt=\"Open In Colab\"/></a>"
      ]
    },
    {
      "cell_type": "markdown",
      "source": [
        "# Dataset link\n",
        "https://www.kaggle.com/competitions/nus-fintech-recruitment/overview/description"
      ],
      "metadata": {
        "id": "RTyhRw10je6U"
      }
    },
    {
      "cell_type": "markdown",
      "source": [
        "# Dataset Description\n",
        "The objective of this competition is to predict whether a transaction is fraudulent or legitimate. The target label is TX_FRAUD, where 1 indicates a fraudulent transaction and 0 indicates a legitimate transaction.\n",
        "\n",
        "Please take note that the test.csv file contains credit card transactions that occurred from Jan - Apr 2022. However, for the final submission of this competition, please only submit the predictions for transactions that occurred in Apr 2022 and sort them by transaction ID in ascending order (from transaction_id = 524230 at the top to transaction_id = 579320 at the bottom). Please refer to the sample_submission.csv file for your final submission.\n",
        "\n",
        "# Files\n",
        "* train.csv - the training set. Contains credit card transactions that occurred from Aug - Dec 2021\n",
        "* test.csv - the test set for submission. Contains credit card transactions that occurred from Jan - Apr 2022. Only predictions for transactions that occurred in Apr 2022 need to be submitted. Please sort your submission by the transaction ID in ascending order\n",
        "* sample_submission.csv - a sample submission file in the correct format\n",
        "* customer.csv - list of customers and their respective customer IDs. A pair of coordinates (x_customer_id, y_customer_id) is provided to indicate the location of the customer\n",
        "* terminal.csv - list of merchants (terminals) and their respective terminal IDs. A pair of coordinates (x_terminal_id, y_terminal_id) is provided to indicate the location of the terminal\n",
        "\n",
        "# Columns in train.csv\n",
        "* TRANSACTION_ID - transaction ID\n",
        "* TX_DATETIME - date and time of transaction\n",
        "* CUSTOMER_ID - customer ID involved in the transaction\n",
        "* TERMINAL_ID - terminal ID where transaction occurred\n",
        "* TX_AMOUNT - amount transacted\n",
        "* TX_FRAUD - indicates if the transaction is fraudulent. 1 for fraudulent and 0 for legitimate\n",
        "\n",
        "# Columns in customer.csv\n",
        "* CUSTOMER_ID - customer ID\n",
        "* x_customer_id - x-coordinate of the customer\n",
        "* y_customer_id - y-coordinate of the customer\n",
        "* mean_amount - mean amount spent by the customer\n",
        "* std_amount - standard deviation of the amount spent by the customer\n",
        "* mean_nb_tx_per_day - mean number of transactions made by the customer per day\n",
        "* available_terminals - terminals where the customer is able to make transactions. We assume that customers can only make transactions at terminals within a radius of 5 units from the location of the customer\n",
        "* nb_terminals - number of terminals that the customer can make transactions\n",
        "\n",
        "# Columns in terminal.csv\n",
        "* TERMINAL_ID - terminal ID\n",
        "* x_terminal_id - x-coordinate of the terminal\n",
        "* y_terminal_id - y-coordinate of the terminal"
      ],
      "metadata": {
        "id": "mAXP0GwIiIIn"
      }
    },
    {
      "cell_type": "code",
      "execution_count": 1,
      "metadata": {
        "id": "T8K4-f4miDpr"
      },
      "outputs": [],
      "source": [
        "#importing the common libraries\n",
        "import numpy as np\n",
        "import pandas as pd"
      ]
    },
    {
      "cell_type": "markdown",
      "source": [
        "# Train data"
      ],
      "metadata": {
        "id": "cIKaWSjb6jEn"
      }
    },
    {
      "cell_type": "code",
      "source": [
        "#importing the train data\n",
        "train_data = pd.read_csv('train.csv')"
      ],
      "metadata": {
        "id": "RgpSdV5gkVEy"
      },
      "execution_count": 2,
      "outputs": []
    },
    {
      "cell_type": "code",
      "source": [
        "#reading the train data\n",
        "train_data.head()"
      ],
      "metadata": {
        "colab": {
          "base_uri": "https://localhost:8080/",
          "height": 206
        },
        "id": "SyHWsNL7WkQ0",
        "outputId": "b4e5d12b-d4a6-444e-f5e0-1b23d4c2a29d"
      },
      "execution_count": 3,
      "outputs": [
        {
          "output_type": "execute_result",
          "data": {
            "text/plain": [
              "   TRANSACTION_ID          TX_DATETIME  CUSTOMER_ID  TERMINAL_ID  TX_AMOUNT  \\\n",
              "0           59383  2021-08-01 00:04:37          323          217       4.60   \n",
              "1           59384  2021-08-01 00:12:10            6          429       8.61   \n",
              "2           59385  2021-08-01 00:12:34          714         1011      64.00   \n",
              "3           59386  2021-08-01 00:15:40          266         1969      12.72   \n",
              "4           59387  2021-08-01 00:16:01          890         1482      98.88   \n",
              "\n",
              "   TX_FRAUD  \n",
              "0         0  \n",
              "1         0  \n",
              "2         0  \n",
              "3         0  \n",
              "4         0  "
            ],
            "text/html": [
              "\n",
              "  <div id=\"df-8e32169f-1156-4e9f-8595-9f208a09c102\">\n",
              "    <div class=\"colab-df-container\">\n",
              "      <div>\n",
              "<style scoped>\n",
              "    .dataframe tbody tr th:only-of-type {\n",
              "        vertical-align: middle;\n",
              "    }\n",
              "\n",
              "    .dataframe tbody tr th {\n",
              "        vertical-align: top;\n",
              "    }\n",
              "\n",
              "    .dataframe thead th {\n",
              "        text-align: right;\n",
              "    }\n",
              "</style>\n",
              "<table border=\"1\" class=\"dataframe\">\n",
              "  <thead>\n",
              "    <tr style=\"text-align: right;\">\n",
              "      <th></th>\n",
              "      <th>TRANSACTION_ID</th>\n",
              "      <th>TX_DATETIME</th>\n",
              "      <th>CUSTOMER_ID</th>\n",
              "      <th>TERMINAL_ID</th>\n",
              "      <th>TX_AMOUNT</th>\n",
              "      <th>TX_FRAUD</th>\n",
              "    </tr>\n",
              "  </thead>\n",
              "  <tbody>\n",
              "    <tr>\n",
              "      <th>0</th>\n",
              "      <td>59383</td>\n",
              "      <td>2021-08-01 00:04:37</td>\n",
              "      <td>323</td>\n",
              "      <td>217</td>\n",
              "      <td>4.60</td>\n",
              "      <td>0</td>\n",
              "    </tr>\n",
              "    <tr>\n",
              "      <th>1</th>\n",
              "      <td>59384</td>\n",
              "      <td>2021-08-01 00:12:10</td>\n",
              "      <td>6</td>\n",
              "      <td>429</td>\n",
              "      <td>8.61</td>\n",
              "      <td>0</td>\n",
              "    </tr>\n",
              "    <tr>\n",
              "      <th>2</th>\n",
              "      <td>59385</td>\n",
              "      <td>2021-08-01 00:12:34</td>\n",
              "      <td>714</td>\n",
              "      <td>1011</td>\n",
              "      <td>64.00</td>\n",
              "      <td>0</td>\n",
              "    </tr>\n",
              "    <tr>\n",
              "      <th>3</th>\n",
              "      <td>59386</td>\n",
              "      <td>2021-08-01 00:15:40</td>\n",
              "      <td>266</td>\n",
              "      <td>1969</td>\n",
              "      <td>12.72</td>\n",
              "      <td>0</td>\n",
              "    </tr>\n",
              "    <tr>\n",
              "      <th>4</th>\n",
              "      <td>59387</td>\n",
              "      <td>2021-08-01 00:16:01</td>\n",
              "      <td>890</td>\n",
              "      <td>1482</td>\n",
              "      <td>98.88</td>\n",
              "      <td>0</td>\n",
              "    </tr>\n",
              "  </tbody>\n",
              "</table>\n",
              "</div>\n",
              "      <button class=\"colab-df-convert\" onclick=\"convertToInteractive('df-8e32169f-1156-4e9f-8595-9f208a09c102')\"\n",
              "              title=\"Convert this dataframe to an interactive table.\"\n",
              "              style=\"display:none;\">\n",
              "        \n",
              "  <svg xmlns=\"http://www.w3.org/2000/svg\" height=\"24px\"viewBox=\"0 0 24 24\"\n",
              "       width=\"24px\">\n",
              "    <path d=\"M0 0h24v24H0V0z\" fill=\"none\"/>\n",
              "    <path d=\"M18.56 5.44l.94 2.06.94-2.06 2.06-.94-2.06-.94-.94-2.06-.94 2.06-2.06.94zm-11 1L8.5 8.5l.94-2.06 2.06-.94-2.06-.94L8.5 2.5l-.94 2.06-2.06.94zm10 10l.94 2.06.94-2.06 2.06-.94-2.06-.94-.94-2.06-.94 2.06-2.06.94z\"/><path d=\"M17.41 7.96l-1.37-1.37c-.4-.4-.92-.59-1.43-.59-.52 0-1.04.2-1.43.59L10.3 9.45l-7.72 7.72c-.78.78-.78 2.05 0 2.83L4 21.41c.39.39.9.59 1.41.59.51 0 1.02-.2 1.41-.59l7.78-7.78 2.81-2.81c.8-.78.8-2.07 0-2.86zM5.41 20L4 18.59l7.72-7.72 1.47 1.35L5.41 20z\"/>\n",
              "  </svg>\n",
              "      </button>\n",
              "      \n",
              "  <style>\n",
              "    .colab-df-container {\n",
              "      display:flex;\n",
              "      flex-wrap:wrap;\n",
              "      gap: 12px;\n",
              "    }\n",
              "\n",
              "    .colab-df-convert {\n",
              "      background-color: #E8F0FE;\n",
              "      border: none;\n",
              "      border-radius: 50%;\n",
              "      cursor: pointer;\n",
              "      display: none;\n",
              "      fill: #1967D2;\n",
              "      height: 32px;\n",
              "      padding: 0 0 0 0;\n",
              "      width: 32px;\n",
              "    }\n",
              "\n",
              "    .colab-df-convert:hover {\n",
              "      background-color: #E2EBFA;\n",
              "      box-shadow: 0px 1px 2px rgba(60, 64, 67, 0.3), 0px 1px 3px 1px rgba(60, 64, 67, 0.15);\n",
              "      fill: #174EA6;\n",
              "    }\n",
              "\n",
              "    [theme=dark] .colab-df-convert {\n",
              "      background-color: #3B4455;\n",
              "      fill: #D2E3FC;\n",
              "    }\n",
              "\n",
              "    [theme=dark] .colab-df-convert:hover {\n",
              "      background-color: #434B5C;\n",
              "      box-shadow: 0px 1px 3px 1px rgba(0, 0, 0, 0.15);\n",
              "      filter: drop-shadow(0px 1px 2px rgba(0, 0, 0, 0.3));\n",
              "      fill: #FFFFFF;\n",
              "    }\n",
              "  </style>\n",
              "\n",
              "      <script>\n",
              "        const buttonEl =\n",
              "          document.querySelector('#df-8e32169f-1156-4e9f-8595-9f208a09c102 button.colab-df-convert');\n",
              "        buttonEl.style.display =\n",
              "          google.colab.kernel.accessAllowed ? 'block' : 'none';\n",
              "\n",
              "        async function convertToInteractive(key) {\n",
              "          const element = document.querySelector('#df-8e32169f-1156-4e9f-8595-9f208a09c102');\n",
              "          const dataTable =\n",
              "            await google.colab.kernel.invokeFunction('convertToInteractive',\n",
              "                                                     [key], {});\n",
              "          if (!dataTable) return;\n",
              "\n",
              "          const docLinkHtml = 'Like what you see? Visit the ' +\n",
              "            '<a target=\"_blank\" href=https://colab.research.google.com/notebooks/data_table.ipynb>data table notebook</a>'\n",
              "            + ' to learn more about interactive tables.';\n",
              "          element.innerHTML = '';\n",
              "          dataTable['output_type'] = 'display_data';\n",
              "          await google.colab.output.renderOutput(dataTable, element);\n",
              "          const docLink = document.createElement('div');\n",
              "          docLink.innerHTML = docLinkHtml;\n",
              "          element.appendChild(docLink);\n",
              "        }\n",
              "      </script>\n",
              "    </div>\n",
              "  </div>\n",
              "  "
            ]
          },
          "metadata": {},
          "execution_count": 3
        }
      ]
    },
    {
      "cell_type": "code",
      "source": [
        "train_data.head()"
      ],
      "metadata": {
        "colab": {
          "base_uri": "https://localhost:8080/",
          "height": 206
        },
        "id": "LeaM6PRaJ2w6",
        "outputId": "367ce1b7-9745-4840-8805-87c901f1e080"
      },
      "execution_count": 4,
      "outputs": [
        {
          "output_type": "execute_result",
          "data": {
            "text/plain": [
              "   TRANSACTION_ID          TX_DATETIME  CUSTOMER_ID  TERMINAL_ID  TX_AMOUNT  \\\n",
              "0           59383  2021-08-01 00:04:37          323          217       4.60   \n",
              "1           59384  2021-08-01 00:12:10            6          429       8.61   \n",
              "2           59385  2021-08-01 00:12:34          714         1011      64.00   \n",
              "3           59386  2021-08-01 00:15:40          266         1969      12.72   \n",
              "4           59387  2021-08-01 00:16:01          890         1482      98.88   \n",
              "\n",
              "   TX_FRAUD  \n",
              "0         0  \n",
              "1         0  \n",
              "2         0  \n",
              "3         0  \n",
              "4         0  "
            ],
            "text/html": [
              "\n",
              "  <div id=\"df-2219f365-21a5-419b-bd4d-446307928672\">\n",
              "    <div class=\"colab-df-container\">\n",
              "      <div>\n",
              "<style scoped>\n",
              "    .dataframe tbody tr th:only-of-type {\n",
              "        vertical-align: middle;\n",
              "    }\n",
              "\n",
              "    .dataframe tbody tr th {\n",
              "        vertical-align: top;\n",
              "    }\n",
              "\n",
              "    .dataframe thead th {\n",
              "        text-align: right;\n",
              "    }\n",
              "</style>\n",
              "<table border=\"1\" class=\"dataframe\">\n",
              "  <thead>\n",
              "    <tr style=\"text-align: right;\">\n",
              "      <th></th>\n",
              "      <th>TRANSACTION_ID</th>\n",
              "      <th>TX_DATETIME</th>\n",
              "      <th>CUSTOMER_ID</th>\n",
              "      <th>TERMINAL_ID</th>\n",
              "      <th>TX_AMOUNT</th>\n",
              "      <th>TX_FRAUD</th>\n",
              "    </tr>\n",
              "  </thead>\n",
              "  <tbody>\n",
              "    <tr>\n",
              "      <th>0</th>\n",
              "      <td>59383</td>\n",
              "      <td>2021-08-01 00:04:37</td>\n",
              "      <td>323</td>\n",
              "      <td>217</td>\n",
              "      <td>4.60</td>\n",
              "      <td>0</td>\n",
              "    </tr>\n",
              "    <tr>\n",
              "      <th>1</th>\n",
              "      <td>59384</td>\n",
              "      <td>2021-08-01 00:12:10</td>\n",
              "      <td>6</td>\n",
              "      <td>429</td>\n",
              "      <td>8.61</td>\n",
              "      <td>0</td>\n",
              "    </tr>\n",
              "    <tr>\n",
              "      <th>2</th>\n",
              "      <td>59385</td>\n",
              "      <td>2021-08-01 00:12:34</td>\n",
              "      <td>714</td>\n",
              "      <td>1011</td>\n",
              "      <td>64.00</td>\n",
              "      <td>0</td>\n",
              "    </tr>\n",
              "    <tr>\n",
              "      <th>3</th>\n",
              "      <td>59386</td>\n",
              "      <td>2021-08-01 00:15:40</td>\n",
              "      <td>266</td>\n",
              "      <td>1969</td>\n",
              "      <td>12.72</td>\n",
              "      <td>0</td>\n",
              "    </tr>\n",
              "    <tr>\n",
              "      <th>4</th>\n",
              "      <td>59387</td>\n",
              "      <td>2021-08-01 00:16:01</td>\n",
              "      <td>890</td>\n",
              "      <td>1482</td>\n",
              "      <td>98.88</td>\n",
              "      <td>0</td>\n",
              "    </tr>\n",
              "  </tbody>\n",
              "</table>\n",
              "</div>\n",
              "      <button class=\"colab-df-convert\" onclick=\"convertToInteractive('df-2219f365-21a5-419b-bd4d-446307928672')\"\n",
              "              title=\"Convert this dataframe to an interactive table.\"\n",
              "              style=\"display:none;\">\n",
              "        \n",
              "  <svg xmlns=\"http://www.w3.org/2000/svg\" height=\"24px\"viewBox=\"0 0 24 24\"\n",
              "       width=\"24px\">\n",
              "    <path d=\"M0 0h24v24H0V0z\" fill=\"none\"/>\n",
              "    <path d=\"M18.56 5.44l.94 2.06.94-2.06 2.06-.94-2.06-.94-.94-2.06-.94 2.06-2.06.94zm-11 1L8.5 8.5l.94-2.06 2.06-.94-2.06-.94L8.5 2.5l-.94 2.06-2.06.94zm10 10l.94 2.06.94-2.06 2.06-.94-2.06-.94-.94-2.06-.94 2.06-2.06.94z\"/><path d=\"M17.41 7.96l-1.37-1.37c-.4-.4-.92-.59-1.43-.59-.52 0-1.04.2-1.43.59L10.3 9.45l-7.72 7.72c-.78.78-.78 2.05 0 2.83L4 21.41c.39.39.9.59 1.41.59.51 0 1.02-.2 1.41-.59l7.78-7.78 2.81-2.81c.8-.78.8-2.07 0-2.86zM5.41 20L4 18.59l7.72-7.72 1.47 1.35L5.41 20z\"/>\n",
              "  </svg>\n",
              "      </button>\n",
              "      \n",
              "  <style>\n",
              "    .colab-df-container {\n",
              "      display:flex;\n",
              "      flex-wrap:wrap;\n",
              "      gap: 12px;\n",
              "    }\n",
              "\n",
              "    .colab-df-convert {\n",
              "      background-color: #E8F0FE;\n",
              "      border: none;\n",
              "      border-radius: 50%;\n",
              "      cursor: pointer;\n",
              "      display: none;\n",
              "      fill: #1967D2;\n",
              "      height: 32px;\n",
              "      padding: 0 0 0 0;\n",
              "      width: 32px;\n",
              "    }\n",
              "\n",
              "    .colab-df-convert:hover {\n",
              "      background-color: #E2EBFA;\n",
              "      box-shadow: 0px 1px 2px rgba(60, 64, 67, 0.3), 0px 1px 3px 1px rgba(60, 64, 67, 0.15);\n",
              "      fill: #174EA6;\n",
              "    }\n",
              "\n",
              "    [theme=dark] .colab-df-convert {\n",
              "      background-color: #3B4455;\n",
              "      fill: #D2E3FC;\n",
              "    }\n",
              "\n",
              "    [theme=dark] .colab-df-convert:hover {\n",
              "      background-color: #434B5C;\n",
              "      box-shadow: 0px 1px 3px 1px rgba(0, 0, 0, 0.15);\n",
              "      filter: drop-shadow(0px 1px 2px rgba(0, 0, 0, 0.3));\n",
              "      fill: #FFFFFF;\n",
              "    }\n",
              "  </style>\n",
              "\n",
              "      <script>\n",
              "        const buttonEl =\n",
              "          document.querySelector('#df-2219f365-21a5-419b-bd4d-446307928672 button.colab-df-convert');\n",
              "        buttonEl.style.display =\n",
              "          google.colab.kernel.accessAllowed ? 'block' : 'none';\n",
              "\n",
              "        async function convertToInteractive(key) {\n",
              "          const element = document.querySelector('#df-2219f365-21a5-419b-bd4d-446307928672');\n",
              "          const dataTable =\n",
              "            await google.colab.kernel.invokeFunction('convertToInteractive',\n",
              "                                                     [key], {});\n",
              "          if (!dataTable) return;\n",
              "\n",
              "          const docLinkHtml = 'Like what you see? Visit the ' +\n",
              "            '<a target=\"_blank\" href=https://colab.research.google.com/notebooks/data_table.ipynb>data table notebook</a>'\n",
              "            + ' to learn more about interactive tables.';\n",
              "          element.innerHTML = '';\n",
              "          dataTable['output_type'] = 'display_data';\n",
              "          await google.colab.output.renderOutput(dataTable, element);\n",
              "          const docLink = document.createElement('div');\n",
              "          docLink.innerHTML = docLinkHtml;\n",
              "          element.appendChild(docLink);\n",
              "        }\n",
              "      </script>\n",
              "    </div>\n",
              "  </div>\n",
              "  "
            ]
          },
          "metadata": {},
          "execution_count": 4
        }
      ]
    },
    {
      "cell_type": "code",
      "source": [
        "train_data.shape"
      ],
      "metadata": {
        "colab": {
          "base_uri": "https://localhost:8080/"
        },
        "id": "ciQhjxmrW_O7",
        "outputId": "e8d1e329-f658-4c25-aec8-eb6b9d8784be"
      },
      "execution_count": 5,
      "outputs": [
        {
          "output_type": "execute_result",
          "data": {
            "text/plain": [
              "(291231, 6)"
            ]
          },
          "metadata": {},
          "execution_count": 5
        }
      ]
    },
    {
      "cell_type": "code",
      "source": [
        "train_data.info()"
      ],
      "metadata": {
        "colab": {
          "base_uri": "https://localhost:8080/"
        },
        "id": "NQFQIegJW_Qx",
        "outputId": "907e8155-2442-4d45-a531-7a1d017ba6b1"
      },
      "execution_count": 6,
      "outputs": [
        {
          "output_type": "stream",
          "name": "stdout",
          "text": [
            "<class 'pandas.core.frame.DataFrame'>\n",
            "RangeIndex: 291231 entries, 0 to 291230\n",
            "Data columns (total 6 columns):\n",
            " #   Column          Non-Null Count   Dtype  \n",
            "---  ------          --------------   -----  \n",
            " 0   TRANSACTION_ID  291231 non-null  int64  \n",
            " 1   TX_DATETIME     291231 non-null  object \n",
            " 2   CUSTOMER_ID     291231 non-null  int64  \n",
            " 3   TERMINAL_ID     291231 non-null  int64  \n",
            " 4   TX_AMOUNT       291231 non-null  float64\n",
            " 5   TX_FRAUD        291231 non-null  int64  \n",
            "dtypes: float64(1), int64(4), object(1)\n",
            "memory usage: 13.3+ MB\n"
          ]
        }
      ]
    },
    {
      "cell_type": "code",
      "source": [
        "train_data.isnull().sum()"
      ],
      "metadata": {
        "colab": {
          "base_uri": "https://localhost:8080/"
        },
        "id": "JH98abpSYDiE",
        "outputId": "30597bba-9fcd-419f-e426-bd2d11359ee3"
      },
      "execution_count": 7,
      "outputs": [
        {
          "output_type": "execute_result",
          "data": {
            "text/plain": [
              "TRANSACTION_ID    0\n",
              "TX_DATETIME       0\n",
              "CUSTOMER_ID       0\n",
              "TERMINAL_ID       0\n",
              "TX_AMOUNT         0\n",
              "TX_FRAUD          0\n",
              "dtype: int64"
            ]
          },
          "metadata": {},
          "execution_count": 7
        }
      ]
    },
    {
      "cell_type": "code",
      "source": [
        "train_data.duplicated().sum()"
      ],
      "metadata": {
        "colab": {
          "base_uri": "https://localhost:8080/"
        },
        "id": "WstUcISNXErR",
        "outputId": "b6f5dbef-0738-4f47-a92a-cb336bf60d17"
      },
      "execution_count": 8,
      "outputs": [
        {
          "output_type": "execute_result",
          "data": {
            "text/plain": [
              "0"
            ]
          },
          "metadata": {},
          "execution_count": 8
        }
      ]
    },
    {
      "cell_type": "code",
      "source": [
        "train_data.describe().T"
      ],
      "metadata": {
        "colab": {
          "base_uri": "https://localhost:8080/",
          "height": 206
        },
        "id": "shwlLO8TeIa5",
        "outputId": "6d8b45ee-b80b-46ba-8232-d32d5f164c9a"
      },
      "execution_count": 9,
      "outputs": [
        {
          "output_type": "execute_result",
          "data": {
            "text/plain": [
              "                   count           mean           std      min        25%  \\\n",
              "TRANSACTION_ID  291231.0  204998.000000  84071.292461  59383.0  132190.50   \n",
              "CUSTOMER_ID     291231.0     496.256202    285.274966      0.0     249.00   \n",
              "TERMINAL_ID     291231.0     993.718526    575.267551      0.0     496.00   \n",
              "TX_AMOUNT       291231.0      53.182274     39.573329      0.0      21.13   \n",
              "TX_FRAUD        291231.0       0.022601      0.148627      0.0       0.00   \n",
              "\n",
              "                      50%        75%        max  \n",
              "TRANSACTION_ID  204998.00  277805.50  350613.00  \n",
              "CUSTOMER_ID        498.00     741.00     999.00  \n",
              "TERMINAL_ID       1000.00    1483.00    1999.00  \n",
              "TX_AMOUNT           44.77      76.85     291.15  \n",
              "TX_FRAUD             0.00       0.00       1.00  "
            ],
            "text/html": [
              "\n",
              "  <div id=\"df-10b20b3a-2e2e-4f6c-b5e1-5f3b8b83944f\">\n",
              "    <div class=\"colab-df-container\">\n",
              "      <div>\n",
              "<style scoped>\n",
              "    .dataframe tbody tr th:only-of-type {\n",
              "        vertical-align: middle;\n",
              "    }\n",
              "\n",
              "    .dataframe tbody tr th {\n",
              "        vertical-align: top;\n",
              "    }\n",
              "\n",
              "    .dataframe thead th {\n",
              "        text-align: right;\n",
              "    }\n",
              "</style>\n",
              "<table border=\"1\" class=\"dataframe\">\n",
              "  <thead>\n",
              "    <tr style=\"text-align: right;\">\n",
              "      <th></th>\n",
              "      <th>count</th>\n",
              "      <th>mean</th>\n",
              "      <th>std</th>\n",
              "      <th>min</th>\n",
              "      <th>25%</th>\n",
              "      <th>50%</th>\n",
              "      <th>75%</th>\n",
              "      <th>max</th>\n",
              "    </tr>\n",
              "  </thead>\n",
              "  <tbody>\n",
              "    <tr>\n",
              "      <th>TRANSACTION_ID</th>\n",
              "      <td>291231.0</td>\n",
              "      <td>204998.000000</td>\n",
              "      <td>84071.292461</td>\n",
              "      <td>59383.0</td>\n",
              "      <td>132190.50</td>\n",
              "      <td>204998.00</td>\n",
              "      <td>277805.50</td>\n",
              "      <td>350613.00</td>\n",
              "    </tr>\n",
              "    <tr>\n",
              "      <th>CUSTOMER_ID</th>\n",
              "      <td>291231.0</td>\n",
              "      <td>496.256202</td>\n",
              "      <td>285.274966</td>\n",
              "      <td>0.0</td>\n",
              "      <td>249.00</td>\n",
              "      <td>498.00</td>\n",
              "      <td>741.00</td>\n",
              "      <td>999.00</td>\n",
              "    </tr>\n",
              "    <tr>\n",
              "      <th>TERMINAL_ID</th>\n",
              "      <td>291231.0</td>\n",
              "      <td>993.718526</td>\n",
              "      <td>575.267551</td>\n",
              "      <td>0.0</td>\n",
              "      <td>496.00</td>\n",
              "      <td>1000.00</td>\n",
              "      <td>1483.00</td>\n",
              "      <td>1999.00</td>\n",
              "    </tr>\n",
              "    <tr>\n",
              "      <th>TX_AMOUNT</th>\n",
              "      <td>291231.0</td>\n",
              "      <td>53.182274</td>\n",
              "      <td>39.573329</td>\n",
              "      <td>0.0</td>\n",
              "      <td>21.13</td>\n",
              "      <td>44.77</td>\n",
              "      <td>76.85</td>\n",
              "      <td>291.15</td>\n",
              "    </tr>\n",
              "    <tr>\n",
              "      <th>TX_FRAUD</th>\n",
              "      <td>291231.0</td>\n",
              "      <td>0.022601</td>\n",
              "      <td>0.148627</td>\n",
              "      <td>0.0</td>\n",
              "      <td>0.00</td>\n",
              "      <td>0.00</td>\n",
              "      <td>0.00</td>\n",
              "      <td>1.00</td>\n",
              "    </tr>\n",
              "  </tbody>\n",
              "</table>\n",
              "</div>\n",
              "      <button class=\"colab-df-convert\" onclick=\"convertToInteractive('df-10b20b3a-2e2e-4f6c-b5e1-5f3b8b83944f')\"\n",
              "              title=\"Convert this dataframe to an interactive table.\"\n",
              "              style=\"display:none;\">\n",
              "        \n",
              "  <svg xmlns=\"http://www.w3.org/2000/svg\" height=\"24px\"viewBox=\"0 0 24 24\"\n",
              "       width=\"24px\">\n",
              "    <path d=\"M0 0h24v24H0V0z\" fill=\"none\"/>\n",
              "    <path d=\"M18.56 5.44l.94 2.06.94-2.06 2.06-.94-2.06-.94-.94-2.06-.94 2.06-2.06.94zm-11 1L8.5 8.5l.94-2.06 2.06-.94-2.06-.94L8.5 2.5l-.94 2.06-2.06.94zm10 10l.94 2.06.94-2.06 2.06-.94-2.06-.94-.94-2.06-.94 2.06-2.06.94z\"/><path d=\"M17.41 7.96l-1.37-1.37c-.4-.4-.92-.59-1.43-.59-.52 0-1.04.2-1.43.59L10.3 9.45l-7.72 7.72c-.78.78-.78 2.05 0 2.83L4 21.41c.39.39.9.59 1.41.59.51 0 1.02-.2 1.41-.59l7.78-7.78 2.81-2.81c.8-.78.8-2.07 0-2.86zM5.41 20L4 18.59l7.72-7.72 1.47 1.35L5.41 20z\"/>\n",
              "  </svg>\n",
              "      </button>\n",
              "      \n",
              "  <style>\n",
              "    .colab-df-container {\n",
              "      display:flex;\n",
              "      flex-wrap:wrap;\n",
              "      gap: 12px;\n",
              "    }\n",
              "\n",
              "    .colab-df-convert {\n",
              "      background-color: #E8F0FE;\n",
              "      border: none;\n",
              "      border-radius: 50%;\n",
              "      cursor: pointer;\n",
              "      display: none;\n",
              "      fill: #1967D2;\n",
              "      height: 32px;\n",
              "      padding: 0 0 0 0;\n",
              "      width: 32px;\n",
              "    }\n",
              "\n",
              "    .colab-df-convert:hover {\n",
              "      background-color: #E2EBFA;\n",
              "      box-shadow: 0px 1px 2px rgba(60, 64, 67, 0.3), 0px 1px 3px 1px rgba(60, 64, 67, 0.15);\n",
              "      fill: #174EA6;\n",
              "    }\n",
              "\n",
              "    [theme=dark] .colab-df-convert {\n",
              "      background-color: #3B4455;\n",
              "      fill: #D2E3FC;\n",
              "    }\n",
              "\n",
              "    [theme=dark] .colab-df-convert:hover {\n",
              "      background-color: #434B5C;\n",
              "      box-shadow: 0px 1px 3px 1px rgba(0, 0, 0, 0.15);\n",
              "      filter: drop-shadow(0px 1px 2px rgba(0, 0, 0, 0.3));\n",
              "      fill: #FFFFFF;\n",
              "    }\n",
              "  </style>\n",
              "\n",
              "      <script>\n",
              "        const buttonEl =\n",
              "          document.querySelector('#df-10b20b3a-2e2e-4f6c-b5e1-5f3b8b83944f button.colab-df-convert');\n",
              "        buttonEl.style.display =\n",
              "          google.colab.kernel.accessAllowed ? 'block' : 'none';\n",
              "\n",
              "        async function convertToInteractive(key) {\n",
              "          const element = document.querySelector('#df-10b20b3a-2e2e-4f6c-b5e1-5f3b8b83944f');\n",
              "          const dataTable =\n",
              "            await google.colab.kernel.invokeFunction('convertToInteractive',\n",
              "                                                     [key], {});\n",
              "          if (!dataTable) return;\n",
              "\n",
              "          const docLinkHtml = 'Like what you see? Visit the ' +\n",
              "            '<a target=\"_blank\" href=https://colab.research.google.com/notebooks/data_table.ipynb>data table notebook</a>'\n",
              "            + ' to learn more about interactive tables.';\n",
              "          element.innerHTML = '';\n",
              "          dataTable['output_type'] = 'display_data';\n",
              "          await google.colab.output.renderOutput(dataTable, element);\n",
              "          const docLink = document.createElement('div');\n",
              "          docLink.innerHTML = docLinkHtml;\n",
              "          element.appendChild(docLink);\n",
              "        }\n",
              "      </script>\n",
              "    </div>\n",
              "  </div>\n",
              "  "
            ]
          },
          "metadata": {},
          "execution_count": 9
        }
      ]
    },
    {
      "cell_type": "code",
      "source": [
        "train_data.info()"
      ],
      "metadata": {
        "colab": {
          "base_uri": "https://localhost:8080/"
        },
        "id": "wR9GEPKuXVsi",
        "outputId": "9d0b6747-d64b-4b04-ae91-bf36b27d9489"
      },
      "execution_count": 10,
      "outputs": [
        {
          "output_type": "stream",
          "name": "stdout",
          "text": [
            "<class 'pandas.core.frame.DataFrame'>\n",
            "RangeIndex: 291231 entries, 0 to 291230\n",
            "Data columns (total 6 columns):\n",
            " #   Column          Non-Null Count   Dtype  \n",
            "---  ------          --------------   -----  \n",
            " 0   TRANSACTION_ID  291231 non-null  int64  \n",
            " 1   TX_DATETIME     291231 non-null  object \n",
            " 2   CUSTOMER_ID     291231 non-null  int64  \n",
            " 3   TERMINAL_ID     291231 non-null  int64  \n",
            " 4   TX_AMOUNT       291231 non-null  float64\n",
            " 5   TX_FRAUD        291231 non-null  int64  \n",
            "dtypes: float64(1), int64(4), object(1)\n",
            "memory usage: 13.3+ MB\n"
          ]
        }
      ]
    },
    {
      "cell_type": "markdown",
      "source": [
        "Observation:\n",
        "* There are no null values in the train data.\n",
        "* There are no duplicates in the train data.\n",
        "* All the columns except the data time, date,  column are numerical."
      ],
      "metadata": {
        "id": "KqU1Mi3HXFLE"
      }
    },
    {
      "cell_type": "markdown",
      "source": [
        "#Customer data"
      ],
      "metadata": {
        "id": "xI12_v0T6og-"
      }
    },
    {
      "cell_type": "code",
      "source": [
        "#importing the customer data\n",
        "customer_data = pd.read_csv('customer.csv')"
      ],
      "metadata": {
        "id": "35dlK5oBW_UC"
      },
      "execution_count": 11,
      "outputs": []
    },
    {
      "cell_type": "code",
      "source": [
        "#reading the customer data\n",
        "customer_data.head()"
      ],
      "metadata": {
        "colab": {
          "base_uri": "https://localhost:8080/",
          "height": 444
        },
        "id": "tryZ0k7lW_WH",
        "outputId": "aeefeb7c-0aa7-4925-d283-10c1d24f945e"
      },
      "execution_count": 12,
      "outputs": [
        {
          "output_type": "execute_result",
          "data": {
            "text/plain": [
              "   CUSTOMER_ID  x_customer_id  y_customer_id  mean_amount  std_amount  \\\n",
              "0            0      54.881350      71.518937    62.262521   31.131260   \n",
              "1            1      42.365480      64.589411    46.570785   23.285393   \n",
              "2            2      96.366276      38.344152    80.213879   40.106939   \n",
              "3            3      56.804456      92.559664    11.748426    5.874213   \n",
              "4            4       2.021840      83.261985    78.924891   39.462446   \n",
              "\n",
              "   mean_nb_tx_per_day                                available_terminals  \\\n",
              "0            2.179533  [29, 87, 144, 241, 330, 858, 996, 1028, 1067, ...   \n",
              "1            3.567092  [5, 160, 242, 378, 431, 475, 571, 762, 876, 93...   \n",
              "2            2.115580  [316, 406, 447, 523, 968, 1200, 1318, 1365, 16...   \n",
              "3            0.348517  [65, 94, 113, 364, 401, 433, 485, 651, 672, 77...   \n",
              "4            3.480049      [372, 614, 774, 1362, 1446, 1564, 1637, 1939]   \n",
              "\n",
              "   nb_terminals  \n",
              "0            22  \n",
              "1            20  \n",
              "2            10  \n",
              "3            17  \n",
              "4             8  "
            ],
            "text/html": [
              "\n",
              "  <div id=\"df-dc99227f-7fdb-4717-94a2-cf03a0ff403f\">\n",
              "    <div class=\"colab-df-container\">\n",
              "      <div>\n",
              "<style scoped>\n",
              "    .dataframe tbody tr th:only-of-type {\n",
              "        vertical-align: middle;\n",
              "    }\n",
              "\n",
              "    .dataframe tbody tr th {\n",
              "        vertical-align: top;\n",
              "    }\n",
              "\n",
              "    .dataframe thead th {\n",
              "        text-align: right;\n",
              "    }\n",
              "</style>\n",
              "<table border=\"1\" class=\"dataframe\">\n",
              "  <thead>\n",
              "    <tr style=\"text-align: right;\">\n",
              "      <th></th>\n",
              "      <th>CUSTOMER_ID</th>\n",
              "      <th>x_customer_id</th>\n",
              "      <th>y_customer_id</th>\n",
              "      <th>mean_amount</th>\n",
              "      <th>std_amount</th>\n",
              "      <th>mean_nb_tx_per_day</th>\n",
              "      <th>available_terminals</th>\n",
              "      <th>nb_terminals</th>\n",
              "    </tr>\n",
              "  </thead>\n",
              "  <tbody>\n",
              "    <tr>\n",
              "      <th>0</th>\n",
              "      <td>0</td>\n",
              "      <td>54.881350</td>\n",
              "      <td>71.518937</td>\n",
              "      <td>62.262521</td>\n",
              "      <td>31.131260</td>\n",
              "      <td>2.179533</td>\n",
              "      <td>[29, 87, 144, 241, 330, 858, 996, 1028, 1067, ...</td>\n",
              "      <td>22</td>\n",
              "    </tr>\n",
              "    <tr>\n",
              "      <th>1</th>\n",
              "      <td>1</td>\n",
              "      <td>42.365480</td>\n",
              "      <td>64.589411</td>\n",
              "      <td>46.570785</td>\n",
              "      <td>23.285393</td>\n",
              "      <td>3.567092</td>\n",
              "      <td>[5, 160, 242, 378, 431, 475, 571, 762, 876, 93...</td>\n",
              "      <td>20</td>\n",
              "    </tr>\n",
              "    <tr>\n",
              "      <th>2</th>\n",
              "      <td>2</td>\n",
              "      <td>96.366276</td>\n",
              "      <td>38.344152</td>\n",
              "      <td>80.213879</td>\n",
              "      <td>40.106939</td>\n",
              "      <td>2.115580</td>\n",
              "      <td>[316, 406, 447, 523, 968, 1200, 1318, 1365, 16...</td>\n",
              "      <td>10</td>\n",
              "    </tr>\n",
              "    <tr>\n",
              "      <th>3</th>\n",
              "      <td>3</td>\n",
              "      <td>56.804456</td>\n",
              "      <td>92.559664</td>\n",
              "      <td>11.748426</td>\n",
              "      <td>5.874213</td>\n",
              "      <td>0.348517</td>\n",
              "      <td>[65, 94, 113, 364, 401, 433, 485, 651, 672, 77...</td>\n",
              "      <td>17</td>\n",
              "    </tr>\n",
              "    <tr>\n",
              "      <th>4</th>\n",
              "      <td>4</td>\n",
              "      <td>2.021840</td>\n",
              "      <td>83.261985</td>\n",
              "      <td>78.924891</td>\n",
              "      <td>39.462446</td>\n",
              "      <td>3.480049</td>\n",
              "      <td>[372, 614, 774, 1362, 1446, 1564, 1637, 1939]</td>\n",
              "      <td>8</td>\n",
              "    </tr>\n",
              "  </tbody>\n",
              "</table>\n",
              "</div>\n",
              "      <button class=\"colab-df-convert\" onclick=\"convertToInteractive('df-dc99227f-7fdb-4717-94a2-cf03a0ff403f')\"\n",
              "              title=\"Convert this dataframe to an interactive table.\"\n",
              "              style=\"display:none;\">\n",
              "        \n",
              "  <svg xmlns=\"http://www.w3.org/2000/svg\" height=\"24px\"viewBox=\"0 0 24 24\"\n",
              "       width=\"24px\">\n",
              "    <path d=\"M0 0h24v24H0V0z\" fill=\"none\"/>\n",
              "    <path d=\"M18.56 5.44l.94 2.06.94-2.06 2.06-.94-2.06-.94-.94-2.06-.94 2.06-2.06.94zm-11 1L8.5 8.5l.94-2.06 2.06-.94-2.06-.94L8.5 2.5l-.94 2.06-2.06.94zm10 10l.94 2.06.94-2.06 2.06-.94-2.06-.94-.94-2.06-.94 2.06-2.06.94z\"/><path d=\"M17.41 7.96l-1.37-1.37c-.4-.4-.92-.59-1.43-.59-.52 0-1.04.2-1.43.59L10.3 9.45l-7.72 7.72c-.78.78-.78 2.05 0 2.83L4 21.41c.39.39.9.59 1.41.59.51 0 1.02-.2 1.41-.59l7.78-7.78 2.81-2.81c.8-.78.8-2.07 0-2.86zM5.41 20L4 18.59l7.72-7.72 1.47 1.35L5.41 20z\"/>\n",
              "  </svg>\n",
              "      </button>\n",
              "      \n",
              "  <style>\n",
              "    .colab-df-container {\n",
              "      display:flex;\n",
              "      flex-wrap:wrap;\n",
              "      gap: 12px;\n",
              "    }\n",
              "\n",
              "    .colab-df-convert {\n",
              "      background-color: #E8F0FE;\n",
              "      border: none;\n",
              "      border-radius: 50%;\n",
              "      cursor: pointer;\n",
              "      display: none;\n",
              "      fill: #1967D2;\n",
              "      height: 32px;\n",
              "      padding: 0 0 0 0;\n",
              "      width: 32px;\n",
              "    }\n",
              "\n",
              "    .colab-df-convert:hover {\n",
              "      background-color: #E2EBFA;\n",
              "      box-shadow: 0px 1px 2px rgba(60, 64, 67, 0.3), 0px 1px 3px 1px rgba(60, 64, 67, 0.15);\n",
              "      fill: #174EA6;\n",
              "    }\n",
              "\n",
              "    [theme=dark] .colab-df-convert {\n",
              "      background-color: #3B4455;\n",
              "      fill: #D2E3FC;\n",
              "    }\n",
              "\n",
              "    [theme=dark] .colab-df-convert:hover {\n",
              "      background-color: #434B5C;\n",
              "      box-shadow: 0px 1px 3px 1px rgba(0, 0, 0, 0.15);\n",
              "      filter: drop-shadow(0px 1px 2px rgba(0, 0, 0, 0.3));\n",
              "      fill: #FFFFFF;\n",
              "    }\n",
              "  </style>\n",
              "\n",
              "      <script>\n",
              "        const buttonEl =\n",
              "          document.querySelector('#df-dc99227f-7fdb-4717-94a2-cf03a0ff403f button.colab-df-convert');\n",
              "        buttonEl.style.display =\n",
              "          google.colab.kernel.accessAllowed ? 'block' : 'none';\n",
              "\n",
              "        async function convertToInteractive(key) {\n",
              "          const element = document.querySelector('#df-dc99227f-7fdb-4717-94a2-cf03a0ff403f');\n",
              "          const dataTable =\n",
              "            await google.colab.kernel.invokeFunction('convertToInteractive',\n",
              "                                                     [key], {});\n",
              "          if (!dataTable) return;\n",
              "\n",
              "          const docLinkHtml = 'Like what you see? Visit the ' +\n",
              "            '<a target=\"_blank\" href=https://colab.research.google.com/notebooks/data_table.ipynb>data table notebook</a>'\n",
              "            + ' to learn more about interactive tables.';\n",
              "          element.innerHTML = '';\n",
              "          dataTable['output_type'] = 'display_data';\n",
              "          await google.colab.output.renderOutput(dataTable, element);\n",
              "          const docLink = document.createElement('div');\n",
              "          docLink.innerHTML = docLinkHtml;\n",
              "          element.appendChild(docLink);\n",
              "        }\n",
              "      </script>\n",
              "    </div>\n",
              "  </div>\n",
              "  "
            ]
          },
          "metadata": {},
          "execution_count": 12
        }
      ]
    },
    {
      "cell_type": "code",
      "source": [
        "customer_data.info()"
      ],
      "metadata": {
        "colab": {
          "base_uri": "https://localhost:8080/"
        },
        "id": "_pOHSYkDa0Zg",
        "outputId": "9d931b44-5b61-42b4-fb49-2172446d1634"
      },
      "execution_count": 13,
      "outputs": [
        {
          "output_type": "stream",
          "name": "stdout",
          "text": [
            "<class 'pandas.core.frame.DataFrame'>\n",
            "RangeIndex: 1000 entries, 0 to 999\n",
            "Data columns (total 8 columns):\n",
            " #   Column               Non-Null Count  Dtype  \n",
            "---  ------               --------------  -----  \n",
            " 0   CUSTOMER_ID          1000 non-null   int64  \n",
            " 1   x_customer_id        1000 non-null   float64\n",
            " 2   y_customer_id        1000 non-null   float64\n",
            " 3   mean_amount          1000 non-null   float64\n",
            " 4   std_amount           1000 non-null   float64\n",
            " 5   mean_nb_tx_per_day   1000 non-null   float64\n",
            " 6   available_terminals  1000 non-null   object \n",
            " 7   nb_terminals         1000 non-null   int64  \n",
            "dtypes: float64(5), int64(2), object(1)\n",
            "memory usage: 62.6+ KB\n"
          ]
        }
      ]
    },
    {
      "cell_type": "code",
      "source": [
        "customer_data.shape"
      ],
      "metadata": {
        "colab": {
          "base_uri": "https://localhost:8080/"
        },
        "id": "EmrLa8hbW_Zz",
        "outputId": "4b0f436d-44f2-4b1a-e6ca-6a22029ed47c"
      },
      "execution_count": 14,
      "outputs": [
        {
          "output_type": "execute_result",
          "data": {
            "text/plain": [
              "(1000, 8)"
            ]
          },
          "metadata": {},
          "execution_count": 14
        }
      ]
    },
    {
      "cell_type": "code",
      "source": [
        "customer_data.isnull().sum()"
      ],
      "metadata": {
        "colab": {
          "base_uri": "https://localhost:8080/"
        },
        "id": "dnJbyiuoW_cO",
        "outputId": "bd37f5cd-af7e-4ce2-b3d5-48fdd066e6fc"
      },
      "execution_count": 15,
      "outputs": [
        {
          "output_type": "execute_result",
          "data": {
            "text/plain": [
              "CUSTOMER_ID            0\n",
              "x_customer_id          0\n",
              "y_customer_id          0\n",
              "mean_amount            0\n",
              "std_amount             0\n",
              "mean_nb_tx_per_day     0\n",
              "available_terminals    0\n",
              "nb_terminals           0\n",
              "dtype: int64"
            ]
          },
          "metadata": {},
          "execution_count": 15
        }
      ]
    },
    {
      "cell_type": "code",
      "source": [
        "customer_data.duplicated().sum()"
      ],
      "metadata": {
        "colab": {
          "base_uri": "https://localhost:8080/"
        },
        "id": "aX8uhg_HW_en",
        "outputId": "29fb6024-8061-4d0a-c9bb-ef3eba106bc7"
      },
      "execution_count": 16,
      "outputs": [
        {
          "output_type": "execute_result",
          "data": {
            "text/plain": [
              "0"
            ]
          },
          "metadata": {},
          "execution_count": 16
        }
      ]
    },
    {
      "cell_type": "markdown",
      "source": [
        "Observation:\n",
        "* There are no null values in the customer data.\n",
        "* There are no duplicates in the customer data.\n",
        "* All the columns except the available_terminals column are numerical."
      ],
      "metadata": {
        "id": "f8z1nFKScYjV"
      }
    },
    {
      "cell_type": "markdown",
      "source": [
        "#Terminal data"
      ],
      "metadata": {
        "id": "qnEOSO0_6tEY"
      }
    },
    {
      "cell_type": "code",
      "source": [
        "#importing the terminal data\n",
        "terminal_data = pd.read_csv('terminal.csv')"
      ],
      "metadata": {
        "id": "G85erJCMW_gj"
      },
      "execution_count": 17,
      "outputs": []
    },
    {
      "cell_type": "code",
      "source": [
        "#reading the terminal data\n",
        "terminal_data.head()"
      ],
      "metadata": {
        "colab": {
          "base_uri": "https://localhost:8080/",
          "height": 206
        },
        "id": "wPTVLYS1c_BN",
        "outputId": "af2a0161-8caa-4ccb-e6f4-8d38bfb958cc"
      },
      "execution_count": 18,
      "outputs": [
        {
          "output_type": "execute_result",
          "data": {
            "text/plain": [
              "   TERMINAL_ID  x_terminal_id  y_terminal_id\n",
              "0            0      41.702200      72.032449\n",
              "1            1       0.011437      30.233257\n",
              "2            2      14.675589       9.233859\n",
              "3            3      18.626021      34.556073\n",
              "4            4      39.676747      53.881673"
            ],
            "text/html": [
              "\n",
              "  <div id=\"df-cf0347e9-2dd1-4486-9d3f-30c6b82ef634\">\n",
              "    <div class=\"colab-df-container\">\n",
              "      <div>\n",
              "<style scoped>\n",
              "    .dataframe tbody tr th:only-of-type {\n",
              "        vertical-align: middle;\n",
              "    }\n",
              "\n",
              "    .dataframe tbody tr th {\n",
              "        vertical-align: top;\n",
              "    }\n",
              "\n",
              "    .dataframe thead th {\n",
              "        text-align: right;\n",
              "    }\n",
              "</style>\n",
              "<table border=\"1\" class=\"dataframe\">\n",
              "  <thead>\n",
              "    <tr style=\"text-align: right;\">\n",
              "      <th></th>\n",
              "      <th>TERMINAL_ID</th>\n",
              "      <th>x_terminal_id</th>\n",
              "      <th>y_terminal_id</th>\n",
              "    </tr>\n",
              "  </thead>\n",
              "  <tbody>\n",
              "    <tr>\n",
              "      <th>0</th>\n",
              "      <td>0</td>\n",
              "      <td>41.702200</td>\n",
              "      <td>72.032449</td>\n",
              "    </tr>\n",
              "    <tr>\n",
              "      <th>1</th>\n",
              "      <td>1</td>\n",
              "      <td>0.011437</td>\n",
              "      <td>30.233257</td>\n",
              "    </tr>\n",
              "    <tr>\n",
              "      <th>2</th>\n",
              "      <td>2</td>\n",
              "      <td>14.675589</td>\n",
              "      <td>9.233859</td>\n",
              "    </tr>\n",
              "    <tr>\n",
              "      <th>3</th>\n",
              "      <td>3</td>\n",
              "      <td>18.626021</td>\n",
              "      <td>34.556073</td>\n",
              "    </tr>\n",
              "    <tr>\n",
              "      <th>4</th>\n",
              "      <td>4</td>\n",
              "      <td>39.676747</td>\n",
              "      <td>53.881673</td>\n",
              "    </tr>\n",
              "  </tbody>\n",
              "</table>\n",
              "</div>\n",
              "      <button class=\"colab-df-convert\" onclick=\"convertToInteractive('df-cf0347e9-2dd1-4486-9d3f-30c6b82ef634')\"\n",
              "              title=\"Convert this dataframe to an interactive table.\"\n",
              "              style=\"display:none;\">\n",
              "        \n",
              "  <svg xmlns=\"http://www.w3.org/2000/svg\" height=\"24px\"viewBox=\"0 0 24 24\"\n",
              "       width=\"24px\">\n",
              "    <path d=\"M0 0h24v24H0V0z\" fill=\"none\"/>\n",
              "    <path d=\"M18.56 5.44l.94 2.06.94-2.06 2.06-.94-2.06-.94-.94-2.06-.94 2.06-2.06.94zm-11 1L8.5 8.5l.94-2.06 2.06-.94-2.06-.94L8.5 2.5l-.94 2.06-2.06.94zm10 10l.94 2.06.94-2.06 2.06-.94-2.06-.94-.94-2.06-.94 2.06-2.06.94z\"/><path d=\"M17.41 7.96l-1.37-1.37c-.4-.4-.92-.59-1.43-.59-.52 0-1.04.2-1.43.59L10.3 9.45l-7.72 7.72c-.78.78-.78 2.05 0 2.83L4 21.41c.39.39.9.59 1.41.59.51 0 1.02-.2 1.41-.59l7.78-7.78 2.81-2.81c.8-.78.8-2.07 0-2.86zM5.41 20L4 18.59l7.72-7.72 1.47 1.35L5.41 20z\"/>\n",
              "  </svg>\n",
              "      </button>\n",
              "      \n",
              "  <style>\n",
              "    .colab-df-container {\n",
              "      display:flex;\n",
              "      flex-wrap:wrap;\n",
              "      gap: 12px;\n",
              "    }\n",
              "\n",
              "    .colab-df-convert {\n",
              "      background-color: #E8F0FE;\n",
              "      border: none;\n",
              "      border-radius: 50%;\n",
              "      cursor: pointer;\n",
              "      display: none;\n",
              "      fill: #1967D2;\n",
              "      height: 32px;\n",
              "      padding: 0 0 0 0;\n",
              "      width: 32px;\n",
              "    }\n",
              "\n",
              "    .colab-df-convert:hover {\n",
              "      background-color: #E2EBFA;\n",
              "      box-shadow: 0px 1px 2px rgba(60, 64, 67, 0.3), 0px 1px 3px 1px rgba(60, 64, 67, 0.15);\n",
              "      fill: #174EA6;\n",
              "    }\n",
              "\n",
              "    [theme=dark] .colab-df-convert {\n",
              "      background-color: #3B4455;\n",
              "      fill: #D2E3FC;\n",
              "    }\n",
              "\n",
              "    [theme=dark] .colab-df-convert:hover {\n",
              "      background-color: #434B5C;\n",
              "      box-shadow: 0px 1px 3px 1px rgba(0, 0, 0, 0.15);\n",
              "      filter: drop-shadow(0px 1px 2px rgba(0, 0, 0, 0.3));\n",
              "      fill: #FFFFFF;\n",
              "    }\n",
              "  </style>\n",
              "\n",
              "      <script>\n",
              "        const buttonEl =\n",
              "          document.querySelector('#df-cf0347e9-2dd1-4486-9d3f-30c6b82ef634 button.colab-df-convert');\n",
              "        buttonEl.style.display =\n",
              "          google.colab.kernel.accessAllowed ? 'block' : 'none';\n",
              "\n",
              "        async function convertToInteractive(key) {\n",
              "          const element = document.querySelector('#df-cf0347e9-2dd1-4486-9d3f-30c6b82ef634');\n",
              "          const dataTable =\n",
              "            await google.colab.kernel.invokeFunction('convertToInteractive',\n",
              "                                                     [key], {});\n",
              "          if (!dataTable) return;\n",
              "\n",
              "          const docLinkHtml = 'Like what you see? Visit the ' +\n",
              "            '<a target=\"_blank\" href=https://colab.research.google.com/notebooks/data_table.ipynb>data table notebook</a>'\n",
              "            + ' to learn more about interactive tables.';\n",
              "          element.innerHTML = '';\n",
              "          dataTable['output_type'] = 'display_data';\n",
              "          await google.colab.output.renderOutput(dataTable, element);\n",
              "          const docLink = document.createElement('div');\n",
              "          docLink.innerHTML = docLinkHtml;\n",
              "          element.appendChild(docLink);\n",
              "        }\n",
              "      </script>\n",
              "    </div>\n",
              "  </div>\n",
              "  "
            ]
          },
          "metadata": {},
          "execution_count": 18
        }
      ]
    },
    {
      "cell_type": "code",
      "source": [
        "terminal_data.info()"
      ],
      "metadata": {
        "colab": {
          "base_uri": "https://localhost:8080/"
        },
        "id": "Bxu_drBlc_zG",
        "outputId": "e8f827f9-77ba-49b8-9dee-e60259cb2378"
      },
      "execution_count": 19,
      "outputs": [
        {
          "output_type": "stream",
          "name": "stdout",
          "text": [
            "<class 'pandas.core.frame.DataFrame'>\n",
            "RangeIndex: 2000 entries, 0 to 1999\n",
            "Data columns (total 3 columns):\n",
            " #   Column         Non-Null Count  Dtype  \n",
            "---  ------         --------------  -----  \n",
            " 0   TERMINAL_ID    2000 non-null   int64  \n",
            " 1   x_terminal_id  2000 non-null   float64\n",
            " 2   y_terminal_id  2000 non-null   float64\n",
            "dtypes: float64(2), int64(1)\n",
            "memory usage: 47.0 KB\n"
          ]
        }
      ]
    },
    {
      "cell_type": "code",
      "source": [
        "terminal_data.shape"
      ],
      "metadata": {
        "colab": {
          "base_uri": "https://localhost:8080/"
        },
        "id": "dxMsJMu_c-_O",
        "outputId": "26d93111-86eb-46e8-c028-fdf049246ef0"
      },
      "execution_count": 20,
      "outputs": [
        {
          "output_type": "execute_result",
          "data": {
            "text/plain": [
              "(2000, 3)"
            ]
          },
          "metadata": {},
          "execution_count": 20
        }
      ]
    },
    {
      "cell_type": "code",
      "source": [
        "terminal_data.isnull().sum()"
      ],
      "metadata": {
        "colab": {
          "base_uri": "https://localhost:8080/"
        },
        "id": "BxfBz0r6dVaZ",
        "outputId": "5551c18c-9b67-4b7a-a171-20e247507c58"
      },
      "execution_count": 21,
      "outputs": [
        {
          "output_type": "execute_result",
          "data": {
            "text/plain": [
              "TERMINAL_ID      0\n",
              "x_terminal_id    0\n",
              "y_terminal_id    0\n",
              "dtype: int64"
            ]
          },
          "metadata": {},
          "execution_count": 21
        }
      ]
    },
    {
      "cell_type": "code",
      "source": [
        "terminal_data.duplicated().sum()"
      ],
      "metadata": {
        "colab": {
          "base_uri": "https://localhost:8080/"
        },
        "id": "y_--YoOpdVcS",
        "outputId": "30973bb0-d1f3-49e3-8366-2400b05f0501"
      },
      "execution_count": 22,
      "outputs": [
        {
          "output_type": "execute_result",
          "data": {
            "text/plain": [
              "0"
            ]
          },
          "metadata": {},
          "execution_count": 22
        }
      ]
    },
    {
      "cell_type": "markdown",
      "source": [
        "Observation:\n",
        "* There are no null values in the train data.\n",
        "* There are no duplicates in the train data.\n",
        "* All the columns are numerical."
      ],
      "metadata": {
        "id": "INGkvcKadwy_"
      }
    },
    {
      "cell_type": "markdown",
      "source": [
        "# Merging the customer data to train data"
      ],
      "metadata": {
        "id": "R6hc2Xfj7HE8"
      }
    },
    {
      "cell_type": "code",
      "source": [
        "new_df = pd.merge(train_data,customer_data, on='CUSTOMER_ID',how='left')"
      ],
      "metadata": {
        "id": "qeQTamEi1icm"
      },
      "execution_count": 23,
      "outputs": []
    },
    {
      "cell_type": "markdown",
      "source": [
        "# Merging the terminal data to train data"
      ],
      "metadata": {
        "id": "YfBIX3co7SSm"
      }
    },
    {
      "cell_type": "code",
      "source": [
        "new_df = pd.merge(new_df,terminal_data, on='TERMINAL_ID', how='left')"
      ],
      "metadata": {
        "id": "AYAukJWc5C2b"
      },
      "execution_count": 24,
      "outputs": []
    },
    {
      "cell_type": "code",
      "source": [
        "new_df.shape"
      ],
      "metadata": {
        "colab": {
          "base_uri": "https://localhost:8080/"
        },
        "id": "N-_1aOA45KMx",
        "outputId": "10b4634c-dfe8-43fb-eea2-ec239d12068d"
      },
      "execution_count": 25,
      "outputs": [
        {
          "output_type": "execute_result",
          "data": {
            "text/plain": [
              "(291231, 15)"
            ]
          },
          "metadata": {},
          "execution_count": 25
        }
      ]
    },
    {
      "cell_type": "code",
      "source": [
        "new_df.head()"
      ],
      "metadata": {
        "colab": {
          "base_uri": "https://localhost:8080/",
          "height": 444
        },
        "id": "F0SgcqSN5czG",
        "outputId": "2d66a06d-8563-438b-b75c-f6aae6c832d0"
      },
      "execution_count": 26,
      "outputs": [
        {
          "output_type": "execute_result",
          "data": {
            "text/plain": [
              "   TRANSACTION_ID          TX_DATETIME  CUSTOMER_ID  TERMINAL_ID  TX_AMOUNT  \\\n",
              "0           59383  2021-08-01 00:04:37          323          217       4.60   \n",
              "1           59384  2021-08-01 00:12:10            6          429       8.61   \n",
              "2           59385  2021-08-01 00:12:34          714         1011      64.00   \n",
              "3           59386  2021-08-01 00:15:40          266         1969      12.72   \n",
              "4           59387  2021-08-01 00:16:01          890         1482      98.88   \n",
              "\n",
              "   TX_FRAUD  x_customer_id  y_customer_id  mean_amount  std_amount  \\\n",
              "0         0      84.515409      38.276422     7.353061    3.676530   \n",
              "1         0      11.827443      63.992102    18.618562    9.309281   \n",
              "2         0      75.221083      94.991427    82.620413   41.310207   \n",
              "3         0      51.122179       8.329098     9.852171    4.926085   \n",
              "4         0      62.777887      31.405270    83.660035   41.830018   \n",
              "\n",
              "   mean_nb_tx_per_day                                available_terminals  \\\n",
              "0            3.324124  [51, 68, 208, 217, 293, 353, 534, 717, 773, 86...   \n",
              "1            3.778676  [163, 172, 205, 429, 468, 607, 750, 786, 881, ...   \n",
              "2            3.723765  [58, 799, 1011, 1021, 1228, 1347, 1443, 1462, ...   \n",
              "3            3.862067  [27, 493, 584, 734, 820, 917, 1108, 1363, 1444...   \n",
              "4            3.128315  [154, 177, 351, 444, 633, 739, 1018, 1056, 113...   \n",
              "\n",
              "   nb_terminals  x_terminal_id  y_terminal_id  \n",
              "0            19      80.316334      40.239252  \n",
              "1            16      15.172487      63.912685  \n",
              "2            13      74.196424      98.288079  \n",
              "3            15      51.950635       6.563484  \n",
              "4            20      62.417972      26.483666  "
            ],
            "text/html": [
              "\n",
              "  <div id=\"df-91323ed5-8706-40c5-83e0-3e29e6169672\">\n",
              "    <div class=\"colab-df-container\">\n",
              "      <div>\n",
              "<style scoped>\n",
              "    .dataframe tbody tr th:only-of-type {\n",
              "        vertical-align: middle;\n",
              "    }\n",
              "\n",
              "    .dataframe tbody tr th {\n",
              "        vertical-align: top;\n",
              "    }\n",
              "\n",
              "    .dataframe thead th {\n",
              "        text-align: right;\n",
              "    }\n",
              "</style>\n",
              "<table border=\"1\" class=\"dataframe\">\n",
              "  <thead>\n",
              "    <tr style=\"text-align: right;\">\n",
              "      <th></th>\n",
              "      <th>TRANSACTION_ID</th>\n",
              "      <th>TX_DATETIME</th>\n",
              "      <th>CUSTOMER_ID</th>\n",
              "      <th>TERMINAL_ID</th>\n",
              "      <th>TX_AMOUNT</th>\n",
              "      <th>TX_FRAUD</th>\n",
              "      <th>x_customer_id</th>\n",
              "      <th>y_customer_id</th>\n",
              "      <th>mean_amount</th>\n",
              "      <th>std_amount</th>\n",
              "      <th>mean_nb_tx_per_day</th>\n",
              "      <th>available_terminals</th>\n",
              "      <th>nb_terminals</th>\n",
              "      <th>x_terminal_id</th>\n",
              "      <th>y_terminal_id</th>\n",
              "    </tr>\n",
              "  </thead>\n",
              "  <tbody>\n",
              "    <tr>\n",
              "      <th>0</th>\n",
              "      <td>59383</td>\n",
              "      <td>2021-08-01 00:04:37</td>\n",
              "      <td>323</td>\n",
              "      <td>217</td>\n",
              "      <td>4.60</td>\n",
              "      <td>0</td>\n",
              "      <td>84.515409</td>\n",
              "      <td>38.276422</td>\n",
              "      <td>7.353061</td>\n",
              "      <td>3.676530</td>\n",
              "      <td>3.324124</td>\n",
              "      <td>[51, 68, 208, 217, 293, 353, 534, 717, 773, 86...</td>\n",
              "      <td>19</td>\n",
              "      <td>80.316334</td>\n",
              "      <td>40.239252</td>\n",
              "    </tr>\n",
              "    <tr>\n",
              "      <th>1</th>\n",
              "      <td>59384</td>\n",
              "      <td>2021-08-01 00:12:10</td>\n",
              "      <td>6</td>\n",
              "      <td>429</td>\n",
              "      <td>8.61</td>\n",
              "      <td>0</td>\n",
              "      <td>11.827443</td>\n",
              "      <td>63.992102</td>\n",
              "      <td>18.618562</td>\n",
              "      <td>9.309281</td>\n",
              "      <td>3.778676</td>\n",
              "      <td>[163, 172, 205, 429, 468, 607, 750, 786, 881, ...</td>\n",
              "      <td>16</td>\n",
              "      <td>15.172487</td>\n",
              "      <td>63.912685</td>\n",
              "    </tr>\n",
              "    <tr>\n",
              "      <th>2</th>\n",
              "      <td>59385</td>\n",
              "      <td>2021-08-01 00:12:34</td>\n",
              "      <td>714</td>\n",
              "      <td>1011</td>\n",
              "      <td>64.00</td>\n",
              "      <td>0</td>\n",
              "      <td>75.221083</td>\n",
              "      <td>94.991427</td>\n",
              "      <td>82.620413</td>\n",
              "      <td>41.310207</td>\n",
              "      <td>3.723765</td>\n",
              "      <td>[58, 799, 1011, 1021, 1228, 1347, 1443, 1462, ...</td>\n",
              "      <td>13</td>\n",
              "      <td>74.196424</td>\n",
              "      <td>98.288079</td>\n",
              "    </tr>\n",
              "    <tr>\n",
              "      <th>3</th>\n",
              "      <td>59386</td>\n",
              "      <td>2021-08-01 00:15:40</td>\n",
              "      <td>266</td>\n",
              "      <td>1969</td>\n",
              "      <td>12.72</td>\n",
              "      <td>0</td>\n",
              "      <td>51.122179</td>\n",
              "      <td>8.329098</td>\n",
              "      <td>9.852171</td>\n",
              "      <td>4.926085</td>\n",
              "      <td>3.862067</td>\n",
              "      <td>[27, 493, 584, 734, 820, 917, 1108, 1363, 1444...</td>\n",
              "      <td>15</td>\n",
              "      <td>51.950635</td>\n",
              "      <td>6.563484</td>\n",
              "    </tr>\n",
              "    <tr>\n",
              "      <th>4</th>\n",
              "      <td>59387</td>\n",
              "      <td>2021-08-01 00:16:01</td>\n",
              "      <td>890</td>\n",
              "      <td>1482</td>\n",
              "      <td>98.88</td>\n",
              "      <td>0</td>\n",
              "      <td>62.777887</td>\n",
              "      <td>31.405270</td>\n",
              "      <td>83.660035</td>\n",
              "      <td>41.830018</td>\n",
              "      <td>3.128315</td>\n",
              "      <td>[154, 177, 351, 444, 633, 739, 1018, 1056, 113...</td>\n",
              "      <td>20</td>\n",
              "      <td>62.417972</td>\n",
              "      <td>26.483666</td>\n",
              "    </tr>\n",
              "  </tbody>\n",
              "</table>\n",
              "</div>\n",
              "      <button class=\"colab-df-convert\" onclick=\"convertToInteractive('df-91323ed5-8706-40c5-83e0-3e29e6169672')\"\n",
              "              title=\"Convert this dataframe to an interactive table.\"\n",
              "              style=\"display:none;\">\n",
              "        \n",
              "  <svg xmlns=\"http://www.w3.org/2000/svg\" height=\"24px\"viewBox=\"0 0 24 24\"\n",
              "       width=\"24px\">\n",
              "    <path d=\"M0 0h24v24H0V0z\" fill=\"none\"/>\n",
              "    <path d=\"M18.56 5.44l.94 2.06.94-2.06 2.06-.94-2.06-.94-.94-2.06-.94 2.06-2.06.94zm-11 1L8.5 8.5l.94-2.06 2.06-.94-2.06-.94L8.5 2.5l-.94 2.06-2.06.94zm10 10l.94 2.06.94-2.06 2.06-.94-2.06-.94-.94-2.06-.94 2.06-2.06.94z\"/><path d=\"M17.41 7.96l-1.37-1.37c-.4-.4-.92-.59-1.43-.59-.52 0-1.04.2-1.43.59L10.3 9.45l-7.72 7.72c-.78.78-.78 2.05 0 2.83L4 21.41c.39.39.9.59 1.41.59.51 0 1.02-.2 1.41-.59l7.78-7.78 2.81-2.81c.8-.78.8-2.07 0-2.86zM5.41 20L4 18.59l7.72-7.72 1.47 1.35L5.41 20z\"/>\n",
              "  </svg>\n",
              "      </button>\n",
              "      \n",
              "  <style>\n",
              "    .colab-df-container {\n",
              "      display:flex;\n",
              "      flex-wrap:wrap;\n",
              "      gap: 12px;\n",
              "    }\n",
              "\n",
              "    .colab-df-convert {\n",
              "      background-color: #E8F0FE;\n",
              "      border: none;\n",
              "      border-radius: 50%;\n",
              "      cursor: pointer;\n",
              "      display: none;\n",
              "      fill: #1967D2;\n",
              "      height: 32px;\n",
              "      padding: 0 0 0 0;\n",
              "      width: 32px;\n",
              "    }\n",
              "\n",
              "    .colab-df-convert:hover {\n",
              "      background-color: #E2EBFA;\n",
              "      box-shadow: 0px 1px 2px rgba(60, 64, 67, 0.3), 0px 1px 3px 1px rgba(60, 64, 67, 0.15);\n",
              "      fill: #174EA6;\n",
              "    }\n",
              "\n",
              "    [theme=dark] .colab-df-convert {\n",
              "      background-color: #3B4455;\n",
              "      fill: #D2E3FC;\n",
              "    }\n",
              "\n",
              "    [theme=dark] .colab-df-convert:hover {\n",
              "      background-color: #434B5C;\n",
              "      box-shadow: 0px 1px 3px 1px rgba(0, 0, 0, 0.15);\n",
              "      filter: drop-shadow(0px 1px 2px rgba(0, 0, 0, 0.3));\n",
              "      fill: #FFFFFF;\n",
              "    }\n",
              "  </style>\n",
              "\n",
              "      <script>\n",
              "        const buttonEl =\n",
              "          document.querySelector('#df-91323ed5-8706-40c5-83e0-3e29e6169672 button.colab-df-convert');\n",
              "        buttonEl.style.display =\n",
              "          google.colab.kernel.accessAllowed ? 'block' : 'none';\n",
              "\n",
              "        async function convertToInteractive(key) {\n",
              "          const element = document.querySelector('#df-91323ed5-8706-40c5-83e0-3e29e6169672');\n",
              "          const dataTable =\n",
              "            await google.colab.kernel.invokeFunction('convertToInteractive',\n",
              "                                                     [key], {});\n",
              "          if (!dataTable) return;\n",
              "\n",
              "          const docLinkHtml = 'Like what you see? Visit the ' +\n",
              "            '<a target=\"_blank\" href=https://colab.research.google.com/notebooks/data_table.ipynb>data table notebook</a>'\n",
              "            + ' to learn more about interactive tables.';\n",
              "          element.innerHTML = '';\n",
              "          dataTable['output_type'] = 'display_data';\n",
              "          await google.colab.output.renderOutput(dataTable, element);\n",
              "          const docLink = document.createElement('div');\n",
              "          docLink.innerHTML = docLinkHtml;\n",
              "          element.appendChild(docLink);\n",
              "        }\n",
              "      </script>\n",
              "    </div>\n",
              "  </div>\n",
              "  "
            ]
          },
          "metadata": {},
          "execution_count": 26
        }
      ]
    },
    {
      "cell_type": "code",
      "source": [
        "new_df.info()"
      ],
      "metadata": {
        "colab": {
          "base_uri": "https://localhost:8080/"
        },
        "id": "y3mprPnM5gym",
        "outputId": "0938777c-5e34-4889-ea3d-3893031a2f17"
      },
      "execution_count": 27,
      "outputs": [
        {
          "output_type": "stream",
          "name": "stdout",
          "text": [
            "<class 'pandas.core.frame.DataFrame'>\n",
            "Int64Index: 291231 entries, 0 to 291230\n",
            "Data columns (total 15 columns):\n",
            " #   Column               Non-Null Count   Dtype  \n",
            "---  ------               --------------   -----  \n",
            " 0   TRANSACTION_ID       291231 non-null  int64  \n",
            " 1   TX_DATETIME          291231 non-null  object \n",
            " 2   CUSTOMER_ID          291231 non-null  int64  \n",
            " 3   TERMINAL_ID          291231 non-null  int64  \n",
            " 4   TX_AMOUNT            291231 non-null  float64\n",
            " 5   TX_FRAUD             291231 non-null  int64  \n",
            " 6   x_customer_id        291231 non-null  float64\n",
            " 7   y_customer_id        291231 non-null  float64\n",
            " 8   mean_amount          291231 non-null  float64\n",
            " 9   std_amount           291231 non-null  float64\n",
            " 10  mean_nb_tx_per_day   291231 non-null  float64\n",
            " 11  available_terminals  291231 non-null  object \n",
            " 12  nb_terminals         291231 non-null  int64  \n",
            " 13  x_terminal_id        291231 non-null  float64\n",
            " 14  y_terminal_id        291231 non-null  float64\n",
            "dtypes: float64(8), int64(5), object(2)\n",
            "memory usage: 35.6+ MB\n"
          ]
        }
      ]
    },
    {
      "cell_type": "code",
      "source": [
        "new_df.duplicated().sum()"
      ],
      "metadata": {
        "colab": {
          "base_uri": "https://localhost:8080/"
        },
        "id": "UQdq9hpD5s48",
        "outputId": "0dfbf246-613d-4e62-92b0-a828a6458831"
      },
      "execution_count": 29,
      "outputs": [
        {
          "output_type": "execute_result",
          "data": {
            "text/plain": [
              "0"
            ]
          },
          "metadata": {},
          "execution_count": 29
        }
      ]
    },
    {
      "cell_type": "code",
      "source": [
        "new_df.to_csv('new_df.csv', index=False)"
      ],
      "metadata": {
        "id": "qFp1GlBT8L4I"
      },
      "execution_count": 30,
      "outputs": []
    }
  ]
}